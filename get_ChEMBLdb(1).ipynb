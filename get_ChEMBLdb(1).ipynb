{
  "nbformat": 4,
  "nbformat_minor": 0,
  "metadata": {
    "colab": {
      "provenance": []
    },
    "kernelspec": {
      "name": "python3",
      "display_name": "Python 3"
    },
    "language_info": {
      "name": "python"
    }
  },
  "cells": [
    {
      "cell_type": "code",
      "source": [
        " !pip install chembl-webresource-client\n",
        " !pip install rdkit"
      ],
      "metadata": {
        "id": "avXMV_cwf8w8"
      },
      "execution_count": null,
      "outputs": []
    },
    {
      "cell_type": "code",
      "source": [
        "''' this code is adapted from\n",
        "https://projects.volkamerlab.org/teachopencadd/talktorials/T001_query_chembl.html\n",
        "'''"
      ],
      "metadata": {
        "id": "boMOzvqosqXm",
        "colab": {
          "base_uri": "https://localhost:8080/",
          "height": 35
        },
        "outputId": "3b2929d6-f90a-47d8-ef53-d0e4c16596e1"
      },
      "execution_count": 1,
      "outputs": [
        {
          "output_type": "execute_result",
          "data": {
            "text/plain": [
              "' this code is adapted from\\nhttps://projects.volkamerlab.org/teachopencadd/talktorials/T001_query_chembl.html\\n'"
            ],
            "application/vnd.google.colaboratory.intrinsic+json": {
              "type": "string"
            }
          },
          "metadata": {},
          "execution_count": 1
        }
      ]
    },
    {
      "cell_type": "code",
      "execution_count": null,
      "metadata": {
        "id": "F_ZCcg-AnCdf"
      },
      "outputs": [],
      "source": [
        "## libraries\n",
        "import math\n",
        "from pathlib import Path\n",
        "from zipfile import ZipFile\n",
        "from tempfile import TemporaryDirectory\n",
        "\n",
        "import numpy as np\n",
        "import pandas as pd\n",
        "from rdkit.Chem import PandasTools\n",
        "from chembl_webresource_client.new_client import new_client\n",
        "from tqdm.auto import tqdm"
      ]
    },
    {
      "cell_type": "code",
      "source": [
        "## params\n",
        "uniprot_id = \"P0DTD1\" ##Example"
      ],
      "metadata": {
        "id": "yKHozZDYtDGs"
      },
      "execution_count": null,
      "outputs": []
    },
    {
      "cell_type": "code",
      "source": [
        "\"\"\" this part of the script is to get the ChEMBL ID for bioassays\n",
        "if you want to skip that, just get the ChEMBL ID you want \"\"\"\n",
        "\n",
        "## working space\n",
        "HERE = Path(_dh[-1])\n",
        "DATA = HERE / \"data\"\n",
        "\n",
        "## create resource objects for API access\n",
        "targets_api = new_client.target\n",
        "compounds_api = new_client.molecule\n",
        "bioactivities_api = new_client.activity\n",
        "\n",
        "# get target information from ChEMBL but restrict it to specified values only\n",
        "targets = targets_api.get(target_components__accession=uniprot_id).only(\n",
        "    \"target_chembl_id\", \"organism\", \"pref_name\", \"target_type\"\n",
        ")\n",
        "\n",
        "## parse it into dataframe in pandas\n",
        "targets = pd.DataFrame.from_records(targets)\n",
        "## select frist option\n",
        "target = targets.iloc[0]\n",
        "## get chembl id\n",
        "chembl_id = target.target_chembl_id\n",
        "print(f\"The target ChEMBL ID is {chembl_id}\")"
      ],
      "metadata": {
        "id": "ncnGSwcLnwgM"
      },
      "execution_count": null,
      "outputs": []
    },
    {
      "cell_type": "code",
      "source": [
        "## params\n",
        "chembl_id = \"CHEMBL3927\""
      ],
      "metadata": {
        "id": "99ioMfF_s7fi"
      },
      "execution_count": null,
      "outputs": []
    },
    {
      "cell_type": "code",
      "source": [
        "\"\"\" this part of the script is to work FROM the bioassay ChEMBL ID,\n",
        "the idea is to get a df with smiles, drug_id, target_id and bioactivity data\"\"\"\n",
        "\n",
        "## create resource objects for API access\n",
        "targets_api = new_client.target\n",
        "compounds_api = new_client.molecule\n",
        "bioactivities_api = new_client.activity\n",
        "\n",
        "## get info from ChEMBL site\n",
        "bioactivities = bioactivities_api.filter(\n",
        "    target_chembl_id=chembl_id, type=\"IC50\", relation=\"=\", assay_type=\"B\"\n",
        ").only(\n",
        "    \"activity_id\",\n",
        "    \"assay_chembl_id\",\n",
        "    \"assay_description\",\n",
        "    \"assay_type\",\n",
        "    \"molecule_chembl_id\",\n",
        "    \"type\",\n",
        "    \"standard_units\",\n",
        "    \"relation\",\n",
        "    \"standard_value\",\n",
        "    \"target_chembl_id\",\n",
        "    \"target_organism\",\n",
        ")\n",
        "\n",
        "## parse it into dataframe in pandas\n",
        "bioactivities_df = pd.DataFrame.from_dict(bioactivities)\n",
        "\n",
        "## clean or rename unwanted columns\n",
        "bioactivities_df[\"units\"].unique()\n",
        "bioactivities_df.drop([\"units\", \"value\"], axis=1, inplace=True)\n",
        "\n",
        "## preprocess and filter bioactivity data\n",
        "bioactivities_df = bioactivities_df.astype({\"standard_value\": \"float64\"}) ## get float numbers\n",
        "bioactivities_df.dropna(axis=0, how=\"any\", inplace=True)\n",
        "bioactivities_df = bioactivities_df[bioactivities_df[\"standard_units\"] == \"nM\"]\n",
        "bioactivities_df.drop_duplicates(\"molecule_chembl_id\", keep=\"first\", inplace=True)\n",
        "bioactivities_df.reset_index(drop=True, inplace=True)\n",
        "bioactivities_df.rename(columns={\"standard_value\": \"IC50\", \"standard_units\": \"units\"}, inplace=True)\n",
        "\n",
        "## make a list of compounds\n",
        "compounds_provider = compounds_api.filter(\n",
        "    molecule_chembl_id__in=list(bioactivities_df[\"molecule_chembl_id\"])\n",
        ").only(\"molecule_chembl_id\", \"molecule_structures\")\n",
        "\n",
        "compounds = list(compounds_provider)\n",
        "\n",
        "## parse that list into dataframe (alternative one)\n",
        "compounds_df = pd.DataFrame.from_records(\n",
        "    compounds,\n",
        ")\n",
        "\n",
        "## preprocess and filter compound data\n",
        "compounds_df.dropna(axis=0, how=\"any\", inplace=True)\n",
        "compounds_df.drop_duplicates(\"molecule_chembl_id\", keep=\"first\", inplace=True)\n",
        "compounds_df.iloc[0].molecule_structures.keys()\n",
        "\n",
        "## get smiles\n",
        "canonical_smiles = []\n",
        "\n",
        "for i, compounds in compounds_df.iterrows():\n",
        "    try:\n",
        "        canonical_smiles.append(compounds[\"molecule_structures\"][\"canonical_smiles\"])\n",
        "    except KeyError:\n",
        "        canonical_smiles.append(None)\n",
        "\n",
        "compounds_df[\"smiles\"] = canonical_smiles\n",
        "compounds_df.drop(\"molecule_structures\", axis=1, inplace=True)\n",
        "compounds_df.dropna(axis=0, how=\"any\", inplace=True)\n",
        "\n",
        "\n",
        "## merge DataFrames\n",
        "output_df = pd.merge(\n",
        "    bioactivities_df[[\"molecule_chembl_id\", \"IC50\", \"units\"]],\n",
        "    compounds_df,\n",
        "    on=\"molecule_chembl_id\",\n",
        ")\n",
        "\n",
        "## reset row indices\n",
        "output_df.reset_index(drop=True, inplace=True)\n",
        "##rename\n",
        "output_df = output_df.rename(columns={'units': 'label'})\n",
        "## label as active or inactives\n",
        "output_df.loc[output_df['IC50'] < 10000.0, 'label'] = 'active'\n",
        "output_df.loc[output_df['IC50'] >= 10000.0, 'label'] = 'inactive'\n",
        "\n",
        "## compute log of IC50 values\n",
        "## convert nanomolar to micromolar\n",
        "output_df['IC50'] = output_df['IC50'].div(1000).round(2)\n",
        "output_df['pIC50'] = np.log(output_df['IC50'] * 0.001) * (-1)"
      ],
      "metadata": {
        "id": "hoNqPkjgneDM"
      },
      "execution_count": null,
      "outputs": []
    },
    {
      "cell_type": "code",
      "source": [
        "print(f\"DataFrame shape: {output_df.shape}\")"
      ],
      "metadata": {
        "colab": {
          "base_uri": "https://localhost:8080/"
        },
        "id": "4GEW7wXiqPVh",
        "outputId": "d84b1e2f-3a3a-4d2a-eea0-c72ed6ee7f30"
      },
      "execution_count": null,
      "outputs": [
        {
          "output_type": "stream",
          "name": "stdout",
          "text": [
            "DataFrame shape: (85, 5)\n"
          ]
        }
      ]
    },
    {
      "cell_type": "code",
      "source": [
        "output_df"
      ],
      "metadata": {
        "colab": {
          "base_uri": "https://localhost:8080/",
          "height": 424
        },
        "id": "gniyh62O8dEU",
        "outputId": "af3f6bb1-189e-4282-f3f5-0de57ff5a9b1"
      },
      "execution_count": null,
      "outputs": [
        {
          "output_type": "execute_result",
          "data": {
            "text/plain": [
              "   molecule_chembl_id    IC50     label  \\\n",
              "0        CHEMBL187579    7.20    active   \n",
              "1        CHEMBL188487    9.40    active   \n",
              "2        CHEMBL185698   13.50  inactive   \n",
              "3        CHEMBL426082   13.11  inactive   \n",
              "4        CHEMBL187717    2.00    active   \n",
              "..                ...     ...       ...   \n",
              "80      CHEMBL2146517   21.10  inactive   \n",
              "81       CHEMBL187460  226.70  inactive   \n",
              "82       CHEMBL363535   38.70  inactive   \n",
              "83       CHEMBL227075   14.40  inactive   \n",
              "84        CHEMBL45830   21.10  inactive   \n",
              "\n",
              "                                               smiles     pIC50  \n",
              "0              Cc1noc(C)c1CN1C(=O)C(=O)c2cc(C#N)ccc21  4.933674  \n",
              "1              O=C1C(=O)N(Cc2ccc(F)cc2Cl)c2ccc(I)cc21  4.667046  \n",
              "2             O=C1C(=O)N(CC2COc3ccccc3O2)c2ccc(I)cc21  4.305066  \n",
              "3                 O=C1C(=O)N(Cc2cc3ccccc3s2)c2ccccc21  4.334380  \n",
              "4     O=C1C(=O)N(Cc2cc3ccccc3s2)c2c1cccc2[N+](=O)[O-]  6.214608  \n",
              "..                                                ...       ...  \n",
              "80  COC(=O)[C@@]1(C)CCCc2c1ccc1c2C(=O)C(=O)c2c(C)c...  3.858482  \n",
              "81        C[C@H]1COC2=C1C(=O)C(=O)c1c2ccc2c1CCCC2(C)C  1.484128  \n",
              "82             Cc1coc2c1C(=O)C(=O)c1c-2ccc2c(C)cccc12  3.251916  \n",
              "83      Cc1cccc2c3c(ccc12)C1=C(C(=O)C3=O)[C@@H](C)CO1  4.240527  \n",
              "84             CC(C)C1=Cc2ccc3c(c2C(=O)C1=O)CCCC3(C)C  3.858482  \n",
              "\n",
              "[85 rows x 5 columns]"
            ],
            "text/html": [
              "\n",
              "  <div id=\"df-d23f12b4-1e10-4e1b-9381-82e4676996f9\">\n",
              "    <div class=\"colab-df-container\">\n",
              "      <div>\n",
              "<style scoped>\n",
              "    .dataframe tbody tr th:only-of-type {\n",
              "        vertical-align: middle;\n",
              "    }\n",
              "\n",
              "    .dataframe tbody tr th {\n",
              "        vertical-align: top;\n",
              "    }\n",
              "\n",
              "    .dataframe thead th {\n",
              "        text-align: right;\n",
              "    }\n",
              "</style>\n",
              "<table border=\"1\" class=\"dataframe\">\n",
              "  <thead>\n",
              "    <tr style=\"text-align: right;\">\n",
              "      <th></th>\n",
              "      <th>molecule_chembl_id</th>\n",
              "      <th>IC50</th>\n",
              "      <th>label</th>\n",
              "      <th>smiles</th>\n",
              "      <th>pIC50</th>\n",
              "    </tr>\n",
              "  </thead>\n",
              "  <tbody>\n",
              "    <tr>\n",
              "      <th>0</th>\n",
              "      <td>CHEMBL187579</td>\n",
              "      <td>7.20</td>\n",
              "      <td>active</td>\n",
              "      <td>Cc1noc(C)c1CN1C(=O)C(=O)c2cc(C#N)ccc21</td>\n",
              "      <td>4.933674</td>\n",
              "    </tr>\n",
              "    <tr>\n",
              "      <th>1</th>\n",
              "      <td>CHEMBL188487</td>\n",
              "      <td>9.40</td>\n",
              "      <td>active</td>\n",
              "      <td>O=C1C(=O)N(Cc2ccc(F)cc2Cl)c2ccc(I)cc21</td>\n",
              "      <td>4.667046</td>\n",
              "    </tr>\n",
              "    <tr>\n",
              "      <th>2</th>\n",
              "      <td>CHEMBL185698</td>\n",
              "      <td>13.50</td>\n",
              "      <td>inactive</td>\n",
              "      <td>O=C1C(=O)N(CC2COc3ccccc3O2)c2ccc(I)cc21</td>\n",
              "      <td>4.305066</td>\n",
              "    </tr>\n",
              "    <tr>\n",
              "      <th>3</th>\n",
              "      <td>CHEMBL426082</td>\n",
              "      <td>13.11</td>\n",
              "      <td>inactive</td>\n",
              "      <td>O=C1C(=O)N(Cc2cc3ccccc3s2)c2ccccc21</td>\n",
              "      <td>4.334380</td>\n",
              "    </tr>\n",
              "    <tr>\n",
              "      <th>4</th>\n",
              "      <td>CHEMBL187717</td>\n",
              "      <td>2.00</td>\n",
              "      <td>active</td>\n",
              "      <td>O=C1C(=O)N(Cc2cc3ccccc3s2)c2c1cccc2[N+](=O)[O-]</td>\n",
              "      <td>6.214608</td>\n",
              "    </tr>\n",
              "    <tr>\n",
              "      <th>...</th>\n",
              "      <td>...</td>\n",
              "      <td>...</td>\n",
              "      <td>...</td>\n",
              "      <td>...</td>\n",
              "      <td>...</td>\n",
              "    </tr>\n",
              "    <tr>\n",
              "      <th>80</th>\n",
              "      <td>CHEMBL2146517</td>\n",
              "      <td>21.10</td>\n",
              "      <td>inactive</td>\n",
              "      <td>COC(=O)[C@@]1(C)CCCc2c1ccc1c2C(=O)C(=O)c2c(C)c...</td>\n",
              "      <td>3.858482</td>\n",
              "    </tr>\n",
              "    <tr>\n",
              "      <th>81</th>\n",
              "      <td>CHEMBL187460</td>\n",
              "      <td>226.70</td>\n",
              "      <td>inactive</td>\n",
              "      <td>C[C@H]1COC2=C1C(=O)C(=O)c1c2ccc2c1CCCC2(C)C</td>\n",
              "      <td>1.484128</td>\n",
              "    </tr>\n",
              "    <tr>\n",
              "      <th>82</th>\n",
              "      <td>CHEMBL363535</td>\n",
              "      <td>38.70</td>\n",
              "      <td>inactive</td>\n",
              "      <td>Cc1coc2c1C(=O)C(=O)c1c-2ccc2c(C)cccc12</td>\n",
              "      <td>3.251916</td>\n",
              "    </tr>\n",
              "    <tr>\n",
              "      <th>83</th>\n",
              "      <td>CHEMBL227075</td>\n",
              "      <td>14.40</td>\n",
              "      <td>inactive</td>\n",
              "      <td>Cc1cccc2c3c(ccc12)C1=C(C(=O)C3=O)[C@@H](C)CO1</td>\n",
              "      <td>4.240527</td>\n",
              "    </tr>\n",
              "    <tr>\n",
              "      <th>84</th>\n",
              "      <td>CHEMBL45830</td>\n",
              "      <td>21.10</td>\n",
              "      <td>inactive</td>\n",
              "      <td>CC(C)C1=Cc2ccc3c(c2C(=O)C1=O)CCCC3(C)C</td>\n",
              "      <td>3.858482</td>\n",
              "    </tr>\n",
              "  </tbody>\n",
              "</table>\n",
              "<p>85 rows × 5 columns</p>\n",
              "</div>\n",
              "      <button class=\"colab-df-convert\" onclick=\"convertToInteractive('df-d23f12b4-1e10-4e1b-9381-82e4676996f9')\"\n",
              "              title=\"Convert this dataframe to an interactive table.\"\n",
              "              style=\"display:none;\">\n",
              "        \n",
              "  <svg xmlns=\"http://www.w3.org/2000/svg\" height=\"24px\"viewBox=\"0 0 24 24\"\n",
              "       width=\"24px\">\n",
              "    <path d=\"M0 0h24v24H0V0z\" fill=\"none\"/>\n",
              "    <path d=\"M18.56 5.44l.94 2.06.94-2.06 2.06-.94-2.06-.94-.94-2.06-.94 2.06-2.06.94zm-11 1L8.5 8.5l.94-2.06 2.06-.94-2.06-.94L8.5 2.5l-.94 2.06-2.06.94zm10 10l.94 2.06.94-2.06 2.06-.94-2.06-.94-.94-2.06-.94 2.06-2.06.94z\"/><path d=\"M17.41 7.96l-1.37-1.37c-.4-.4-.92-.59-1.43-.59-.52 0-1.04.2-1.43.59L10.3 9.45l-7.72 7.72c-.78.78-.78 2.05 0 2.83L4 21.41c.39.39.9.59 1.41.59.51 0 1.02-.2 1.41-.59l7.78-7.78 2.81-2.81c.8-.78.8-2.07 0-2.86zM5.41 20L4 18.59l7.72-7.72 1.47 1.35L5.41 20z\"/>\n",
              "  </svg>\n",
              "      </button>\n",
              "      \n",
              "  <style>\n",
              "    .colab-df-container {\n",
              "      display:flex;\n",
              "      flex-wrap:wrap;\n",
              "      gap: 12px;\n",
              "    }\n",
              "\n",
              "    .colab-df-convert {\n",
              "      background-color: #E8F0FE;\n",
              "      border: none;\n",
              "      border-radius: 50%;\n",
              "      cursor: pointer;\n",
              "      display: none;\n",
              "      fill: #1967D2;\n",
              "      height: 32px;\n",
              "      padding: 0 0 0 0;\n",
              "      width: 32px;\n",
              "    }\n",
              "\n",
              "    .colab-df-convert:hover {\n",
              "      background-color: #E2EBFA;\n",
              "      box-shadow: 0px 1px 2px rgba(60, 64, 67, 0.3), 0px 1px 3px 1px rgba(60, 64, 67, 0.15);\n",
              "      fill: #174EA6;\n",
              "    }\n",
              "\n",
              "    [theme=dark] .colab-df-convert {\n",
              "      background-color: #3B4455;\n",
              "      fill: #D2E3FC;\n",
              "    }\n",
              "\n",
              "    [theme=dark] .colab-df-convert:hover {\n",
              "      background-color: #434B5C;\n",
              "      box-shadow: 0px 1px 3px 1px rgba(0, 0, 0, 0.15);\n",
              "      filter: drop-shadow(0px 1px 2px rgba(0, 0, 0, 0.3));\n",
              "      fill: #FFFFFF;\n",
              "    }\n",
              "  </style>\n",
              "\n",
              "      <script>\n",
              "        const buttonEl =\n",
              "          document.querySelector('#df-d23f12b4-1e10-4e1b-9381-82e4676996f9 button.colab-df-convert');\n",
              "        buttonEl.style.display =\n",
              "          google.colab.kernel.accessAllowed ? 'block' : 'none';\n",
              "\n",
              "        async function convertToInteractive(key) {\n",
              "          const element = document.querySelector('#df-d23f12b4-1e10-4e1b-9381-82e4676996f9');\n",
              "          const dataTable =\n",
              "            await google.colab.kernel.invokeFunction('convertToInteractive',\n",
              "                                                     [key], {});\n",
              "          if (!dataTable) return;\n",
              "\n",
              "          const docLinkHtml = 'Like what you see? Visit the ' +\n",
              "            '<a target=\"_blank\" href=https://colab.research.google.com/notebooks/data_table.ipynb>data table notebook</a>'\n",
              "            + ' to learn more about interactive tables.';\n",
              "          element.innerHTML = '';\n",
              "          dataTable['output_type'] = 'display_data';\n",
              "          await google.colab.output.renderOutput(dataTable, element);\n",
              "          const docLink = document.createElement('div');\n",
              "          docLink.innerHTML = docLinkHtml;\n",
              "          element.appendChild(docLink);\n",
              "        }\n",
              "      </script>\n",
              "    </div>\n",
              "  </div>\n",
              "  "
            ]
          },
          "metadata": {},
          "execution_count": 9
        }
      ]
    },
    {
      "cell_type": "code",
      "source": [
        "output_df.hist(column=\"pIC50\")"
      ],
      "metadata": {
        "colab": {
          "base_uri": "https://localhost:8080/",
          "height": 469
        },
        "id": "x7OpvPaAs0ed",
        "outputId": "4c398c76-463c-48f3-d7e9-e720f0fa3167"
      },
      "execution_count": null,
      "outputs": [
        {
          "output_type": "execute_result",
          "data": {
            "text/plain": [
              "array([[<Axes: title={'center': 'pIC50'}>]], dtype=object)"
            ]
          },
          "metadata": {},
          "execution_count": 10
        },
        {
          "output_type": "display_data",
          "data": {
            "text/plain": [
              "<Figure size 640x480 with 1 Axes>"
            ],
            "image/png": "[encoded data removed]"
          },
          "metadata": {}
        }
      ]
    },
    {
      "cell_type": "code",
      "source": [
        "print(\"the number of compounds is \" + str(output_df.shape[0]))\n",
        "print(' ')\n",
        "print(\"Class blance is \")\n",
        "output_df['label'].value_counts()"
      ],
      "metadata": {
        "colab": {
          "base_uri": "https://localhost:8080/"
        },
        "id": "1WfcE5sy9A6d",
        "outputId": "4ab21aef-3361-4594-9378-15cd1668b265"
      },
      "execution_count": null,
      "outputs": [
        {
          "output_type": "stream",
          "name": "stdout",
          "text": [
            "the number of compounds is 85\n",
            " \n",
            "Class blance is \n"
          ]
        },
        {
          "output_type": "execute_result",
          "data": {
            "text/plain": [
              "inactive    63\n",
              "active      22\n",
              "Name: label, dtype: int64"
            ]
          },
          "metadata": {},
          "execution_count": 20
        }
      ]
    },
    {
      "cell_type": "code",
      "source": [
        "## This script to balnce the dataset in pos-negative samples\n",
        "## it is defined in radius the proportion of majority class\n",
        "## however, it only would be useful if inactives are the majority class\n",
        "## and posses more samples available than the radius defined\n",
        "\n",
        "radius=2 ## radio 1:2\n",
        "actives = output_df.loc[output_df[\"label\"] == \"active\", :]\n",
        "num_of_actives = len(actives)\n",
        "\n",
        "negatives = output_df.loc[output_df[\"label\"] == \"inactive\", :]\n",
        "sample_of_negatives = negatives.sample(int(radius)*num_of_actives)\n",
        "\n",
        "data = pd.concat([actives, sample_of_negatives], ignore_index=True)\n",
        "\n",
        "print(\"the number of compounds is \" + str(data.shape[0]))\n",
        "print(' ')\n",
        "print(\"Class blance is \")\n",
        "data['label'].value_counts()\n"
      ],
      "metadata": {
        "colab": {
          "base_uri": "https://localhost:8080/"
        },
        "id": "wF5TStMajGI_",
        "outputId": "574f748a-8800-46f5-dabb-3c412901b353"
      },
      "execution_count": null,
      "outputs": [
        {
          "output_type": "stream",
          "name": "stdout",
          "text": [
            "the number of compounds is 66\n",
            " \n",
            "Class blance is \n"
          ]
        },
        {
          "output_type": "execute_result",
          "data": {
            "text/plain": [
              "inactive    44\n",
              "active      22\n",
              "Name: label, dtype: int64"
            ]
          },
          "metadata": {},
          "execution_count": 29
        }
      ]
    }
  ]
}